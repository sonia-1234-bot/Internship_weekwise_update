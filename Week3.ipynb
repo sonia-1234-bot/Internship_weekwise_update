{
  "nbformat": 4,
  "nbformat_minor": 0,
  "metadata": {
    "colab": {
      "provenance": [],
      "authorship_tag": "ABX9TyP6OUImbVqDaWnNp5YRjsVu",
      "include_colab_link": true
    },
    "kernelspec": {
      "name": "python3",
      "display_name": "Python 3"
    },
    "language_info": {
      "name": "python"
    }
  },
  "cells": [
    {
      "cell_type": "markdown",
      "metadata": {
        "id": "view-in-github",
        "colab_type": "text"
      },
      "source": [
        "<a href=\"https://colab.research.google.com/github/sonia-1234-bot/Internship_weekwise_update/blob/main/Week3.ipynb\" target=\"_parent\"><img src=\"https://colab.research.google.com/assets/colab-badge.svg\" alt=\"Open In Colab\"/></a>"
      ]
    },
    {
      "cell_type": "code",
      "execution_count": null,
      "metadata": {
        "colab": {
          "base_uri": "https://localhost:8080/"
        },
        "id": "tJPdH7Ff4Zsw",
        "outputId": "653c5c0d-9bed-4681-b97f-d5d98897d10e"
      },
      "outputs": [
        {
          "output_type": "stream",
          "name": "stdout",
          "text": [
            "[1 2]\n",
            "[3]\n",
            "[2 4]\n",
            "[6]\n",
            "(2,)\n",
            "(1,)\n",
            "(2,)\n",
            "(1,)\n",
            "[[1]\n",
            " [2]]\n",
            "[[3]]\n",
            "[[2]\n",
            " [4]]\n",
            "[[6]]\n",
            "(2, 1)\n",
            "(1, 1)\n",
            "(2, 1)\n",
            "(1, 1)\n"
          ]
        }
      ],
      "source": [
        "#Day1\n",
        "\n",
        "import numpy as npy\n",
        "import matplotlib.pyplot as plt\n",
        "import pandas as pd\n",
        "from sklearn.model_selection import train_test_split\n",
        "#Taking one dimensional array as input for x and y\n",
        "x=npy.array([1,2,3])\n",
        "y=npy.array([2,4,6])\n",
        "#Using train_test_split() to split the array into train_x,test_x and train_y,test_y\n",
        "train_x,test_x,train_y,test_y=train_test_split(x,y)\n",
        "#Printing the Splitted arrays\n",
        "print(train_x)\n",
        "print(test_x)\n",
        "print(train_y)\n",
        "print(test_y)\n",
        "#Printing the shape of an array\n",
        "print(train_x.shape)\n",
        "print(test_x.shape)\n",
        "print(train_y.shape)\n",
        "print(test_y.shape)\n",
        "#Since the input is one_dimensional array we will not get the complete shape\n",
        "#So we use reshape() to convert the input into two_dimensional\n",
        "train_x=train_x.reshape(-1,1)\n",
        "test_x=test_x.reshape(-1,1)\n",
        "train_y=train_y.reshape(-1,1)\n",
        "test_y=test_y.reshape(-1,1)\n",
        "#Printing the reshaped two dimensional splitted array of x and y\n",
        "print(train_x)\n",
        "print(test_x)\n",
        "print(train_y)\n",
        "print(test_y)\n",
        "#printing the shape of the reshaped array where we will get the complete shape of the array with rows and columns\n",
        "print(train_x.shape)\n",
        "print(test_x.shape)\n",
        "print(train_y.shape)\n",
        "print(test_y.shape)\n",
        "from sklearn.linear_model import LinearRegression\n",
        "#LinearRegression() creates a model of x and y divided into train_x, test_x and train_y,test_y\n",
        "lr=LinearRegression()\n",
        "#Now the array is fit in such a way that train_x is the input and train_y is the output\n",
        "lr.fit(train_x,train_y)\n",
        "#Here the y_predict must be equal to test_y to verify the test cases\n",
        "y_predict=lr.predict(test_x)\n"
      ]
    },
    {
      "cell_type": "code",
      "source": [
        "#Day2\n",
        "import numpy as np\n",
        "import pandas as pd\n",
        "import matplotlib.pyplot as plt\n",
        "#importing the iris dataset into the file from sklearn package\n",
        "from sklearn.datasets import load_iris\n",
        "#Load the train_test_split class from the sklearn model to split the datasets\n",
        "from sklearn.model_selection import train_test_split\n",
        "#Loading classifier implementing k-nearest neighbour algorithm\n",
        "from sklearn.neighbors import KNeighborsClassifier\n",
        "#Loading confusion_matrix to evaluate the accuracy of a classification\n",
        "from sklearn.metrics import confusion_matrix\n",
        "#load the iris dataset\n",
        "datasets=load_iris()\n",
        "#split the datasets into training sets and testing sets by taking x as datasets of data and y as datasets of target and random state is\n",
        "train_x,test_x,train_y,test_y=train_test_split(datasets[\"data\"],datasets[\"target\"],random_state=0)\n",
        "#Using KNeighbours classifier to set the neighbours to 3\n",
        "knc=KNeighborsClassifier(n_neighbors=3)\n",
        "#fit the KMeans clustering model to DataFrame train_x and train_y\n",
        "knc.fit(train_x,train_y)\n",
        "#Predicting the target values for the test dataset test_x\n",
        "y_predict=knc.predict(test_x)\n",
        "#Printing the y_predict\n",
        "print(y_predict)\n",
        "#Computing the confusion matrix using the actual value test_y and the predicted values y_predict\n",
        "confusion_matrix(test_y,y_predict)\n"
      ],
      "metadata": {
        "colab": {
          "base_uri": "https://localhost:8080/"
        },
        "id": "JKdFFOeS5dhM",
        "outputId": "aaf7ef74-6dad-4a09-b174-d895f1d0e8e6"
      },
      "execution_count": null,
      "outputs": [
        {
          "output_type": "stream",
          "name": "stdout",
          "text": [
            "[2 1 0 2 0 2 0 1 1 1 2 1 1 1 1 0 1 1 0 0 2 1 0 0 2 0 0 1 1 0 2 1 0 2 2 1 0\n",
            " 2]\n"
          ]
        },
        {
          "output_type": "execute_result",
          "data": {
            "text/plain": [
              "array([[13,  0,  0],\n",
              "       [ 0, 15,  1],\n",
              "       [ 0,  0,  9]])"
            ]
          },
          "metadata": {},
          "execution_count": 2
        }
      ]
    },
    {
      "cell_type": "code",
      "source": [
        "import numpy as np\n",
        "import pandas as pd\n",
        "import matplotlib.pyplot as plt\n",
        "from sklearn.datasets import load_iris\n",
        "#importing clustering algorithms from sklearn\n",
        "from sklearn.cluster import KMeans\n",
        "#Load the train_test_split class from the sklearn model to split the datasets\n",
        "from sklearn.model_selection import train_test_split\n",
        "#Implementing K-nearest neighbours algorithm to find nearest neighbours\n",
        "from sklearn.neighbors import KNeighborsClassifier\n",
        "#Evaluating the accuracy of a classification\n",
        "from sklearn.metrics import confusion_matrix\n",
        "#loading the iris dataset to a variable\n",
        "iris=load_iris()\n",
        "#Creating and loading the iris dataset to x dataframe\n",
        "x=pd.DataFrame(iris.data)\n",
        "#Creating and loading the iris dataset to y dataframe\n",
        "y=pd.DataFrame(iris.target)\n",
        "#Give column names to the x dataframe\n",
        "x.columns=[\"sepal_length\",\"sepal_width\",\"petal_length\",\"petal_width\"]\n",
        "#Give column names to the y dataframe\n",
        "y.columns=[\"target\"]\n",
        "#Printing the Dataframes\n",
        "print(x)\n",
        "print(y)\n",
        "#creating kmeans class with 3 instances\n",
        "km=KMeans(n_clusters=3)\n",
        "#fitting the KMeans clustering model to DataFrame x\n",
        "km.fit(x)"
      ],
      "metadata": {
        "colab": {
          "base_uri": "https://localhost:8080/",
          "height": 615
        },
        "id": "8bl2wg6t57DS",
        "outputId": "f0b6f7ad-6848-4a6a-e311-737792d6c43e"
      },
      "execution_count": null,
      "outputs": [
        {
          "output_type": "stream",
          "name": "stdout",
          "text": [
            "     sepal_length  sepal_width  petal_length  petal_width\n",
            "0             5.1          3.5           1.4          0.2\n",
            "1             4.9          3.0           1.4          0.2\n",
            "2             4.7          3.2           1.3          0.2\n",
            "3             4.6          3.1           1.5          0.2\n",
            "4             5.0          3.6           1.4          0.2\n",
            "..            ...          ...           ...          ...\n",
            "145           6.7          3.0           5.2          2.3\n",
            "146           6.3          2.5           5.0          1.9\n",
            "147           6.5          3.0           5.2          2.0\n",
            "148           6.2          3.4           5.4          2.3\n",
            "149           5.9          3.0           5.1          1.8\n",
            "\n",
            "[150 rows x 4 columns]\n",
            "     target\n",
            "0         0\n",
            "1         0\n",
            "2         0\n",
            "3         0\n",
            "4         0\n",
            "..      ...\n",
            "145       2\n",
            "146       2\n",
            "147       2\n",
            "148       2\n",
            "149       2\n",
            "\n",
            "[150 rows x 1 columns]\n"
          ]
        },
        {
          "output_type": "stream",
          "name": "stderr",
          "text": [
            "/usr/local/lib/python3.10/dist-packages/sklearn/cluster/_kmeans.py:870: FutureWarning: The default value of `n_init` will change from 10 to 'auto' in 1.4. Set the value of `n_init` explicitly to suppress the warning\n",
            "  warnings.warn(\n"
          ]
        },
        {
          "output_type": "execute_result",
          "data": {
            "text/plain": [
              "KMeans(n_clusters=3)"
            ],
            "text/html": [
              "<style>#sk-container-id-1 {color: black;background-color: white;}#sk-container-id-1 pre{padding: 0;}#sk-container-id-1 div.sk-toggleable {background-color: white;}#sk-container-id-1 label.sk-toggleable__label {cursor: pointer;display: block;width: 100%;margin-bottom: 0;padding: 0.3em;box-sizing: border-box;text-align: center;}#sk-container-id-1 label.sk-toggleable__label-arrow:before {content: \"▸\";float: left;margin-right: 0.25em;color: #696969;}#sk-container-id-1 label.sk-toggleable__label-arrow:hover:before {color: black;}#sk-container-id-1 div.sk-estimator:hover label.sk-toggleable__label-arrow:before {color: black;}#sk-container-id-1 div.sk-toggleable__content {max-height: 0;max-width: 0;overflow: hidden;text-align: left;background-color: #f0f8ff;}#sk-container-id-1 div.sk-toggleable__content pre {margin: 0.2em;color: black;border-radius: 0.25em;background-color: #f0f8ff;}#sk-container-id-1 input.sk-toggleable__control:checked~div.sk-toggleable__content {max-height: 200px;max-width: 100%;overflow: auto;}#sk-container-id-1 input.sk-toggleable__control:checked~label.sk-toggleable__label-arrow:before {content: \"▾\";}#sk-container-id-1 div.sk-estimator input.sk-toggleable__control:checked~label.sk-toggleable__label {background-color: #d4ebff;}#sk-container-id-1 div.sk-label input.sk-toggleable__control:checked~label.sk-toggleable__label {background-color: #d4ebff;}#sk-container-id-1 input.sk-hidden--visually {border: 0;clip: rect(1px 1px 1px 1px);clip: rect(1px, 1px, 1px, 1px);height: 1px;margin: -1px;overflow: hidden;padding: 0;position: absolute;width: 1px;}#sk-container-id-1 div.sk-estimator {font-family: monospace;background-color: #f0f8ff;border: 1px dotted black;border-radius: 0.25em;box-sizing: border-box;margin-bottom: 0.5em;}#sk-container-id-1 div.sk-estimator:hover {background-color: #d4ebff;}#sk-container-id-1 div.sk-parallel-item::after {content: \"\";width: 100%;border-bottom: 1px solid gray;flex-grow: 1;}#sk-container-id-1 div.sk-label:hover label.sk-toggleable__label {background-color: #d4ebff;}#sk-container-id-1 div.sk-serial::before {content: \"\";position: absolute;border-left: 1px solid gray;box-sizing: border-box;top: 0;bottom: 0;left: 50%;z-index: 0;}#sk-container-id-1 div.sk-serial {display: flex;flex-direction: column;align-items: center;background-color: white;padding-right: 0.2em;padding-left: 0.2em;position: relative;}#sk-container-id-1 div.sk-item {position: relative;z-index: 1;}#sk-container-id-1 div.sk-parallel {display: flex;align-items: stretch;justify-content: center;background-color: white;position: relative;}#sk-container-id-1 div.sk-item::before, #sk-container-id-1 div.sk-parallel-item::before {content: \"\";position: absolute;border-left: 1px solid gray;box-sizing: border-box;top: 0;bottom: 0;left: 50%;z-index: -1;}#sk-container-id-1 div.sk-parallel-item {display: flex;flex-direction: column;z-index: 1;position: relative;background-color: white;}#sk-container-id-1 div.sk-parallel-item:first-child::after {align-self: flex-end;width: 50%;}#sk-container-id-1 div.sk-parallel-item:last-child::after {align-self: flex-start;width: 50%;}#sk-container-id-1 div.sk-parallel-item:only-child::after {width: 0;}#sk-container-id-1 div.sk-dashed-wrapped {border: 1px dashed gray;margin: 0 0.4em 0.5em 0.4em;box-sizing: border-box;padding-bottom: 0.4em;background-color: white;}#sk-container-id-1 div.sk-label label {font-family: monospace;font-weight: bold;display: inline-block;line-height: 1.2em;}#sk-container-id-1 div.sk-label-container {text-align: center;}#sk-container-id-1 div.sk-container {/* jupyter's `normalize.less` sets `[hidden] { display: none; }` but bootstrap.min.css set `[hidden] { display: none !important; }` so we also need the `!important` here to be able to override the default hidden behavior on the sphinx rendered scikit-learn.org. See: https://github.com/scikit-learn/scikit-learn/issues/21755 */display: inline-block !important;position: relative;}#sk-container-id-1 div.sk-text-repr-fallback {display: none;}</style><div id=\"sk-container-id-1\" class=\"sk-top-container\"><div class=\"sk-text-repr-fallback\"><pre>KMeans(n_clusters=3)</pre><b>In a Jupyter environment, please rerun this cell to show the HTML representation or trust the notebook. <br />On GitHub, the HTML representation is unable to render, please try loading this page with nbviewer.org.</b></div><div class=\"sk-container\" hidden><div class=\"sk-item\"><div class=\"sk-estimator sk-toggleable\"><input class=\"sk-toggleable__control sk-hidden--visually\" id=\"sk-estimator-id-1\" type=\"checkbox\" checked><label for=\"sk-estimator-id-1\" class=\"sk-toggleable__label sk-toggleable__label-arrow\">KMeans</label><div class=\"sk-toggleable__content\"><pre>KMeans(n_clusters=3)</pre></div></div></div></div></div>"
            ]
          },
          "metadata": {},
          "execution_count": 3
        }
      ]
    },
    {
      "cell_type": "code",
      "source": [
        "#Day3\n",
        "\n",
        "import numpy as np\n",
        "import pandas as pd\n",
        "import matplotlib.pyplot as plt\n",
        "from sklearn.datasets import load_iris\n",
        "#importing clustering algorithms from sklearn\n",
        "from sklearn.cluster import KMeans\n",
        "iris=load_iris()\n",
        "#Creating and loading the iris dataset to x dataframe\n",
        "x=pd.DataFrame(iris.data)\n",
        "#Creating and loading the iris dataset to y dataframe\n",
        "y=pd.DataFrame(iris.target)\n",
        "#Give column names to the x dataframe\n",
        "x.columns=[\"sepal_length\",\"sepal_width\",\"petal_length\",\"petal_width\"]\n",
        "#Give column names to the  y dataframe\n",
        "y.columns=[\"target\"]\n",
        "#creating kmeans class with 3 instances\n",
        "km=KMeans(n_clusters=3)\n",
        "#fitting the KMeans clustering model to DataFrame x\n",
        "km.fit(x)\n",
        "#Creating a figure with size 10x10\n",
        "plt.figure(figsize=(10,10))\n",
        "#creates numpy array colormap with three values representing colours\n",
        "colormap=np.array([\"red\",\"lime\",\"black\"])\n",
        "#creates an actual subplot with  2 number of rows and 2 number of columns and 1 is the index of the subplot\n",
        "plt.subplot(2,2,1)\n",
        "#plot scatter plot by taking petal length in x axis and petal width in y axis, and\n",
        "#colour each dot using y.target values and give the size of each dot as 40\n",
        "plt.scatter(x.petal_length,x.petal_width,c=colormap[y.target],s=40)\n",
        "#Giving the title of the graph as actual clusters and x-axis and y-axis label\n",
        "plt.title(\"actual clusters\")\n",
        "plt.xlabel(\"petal length\")\n",
        "plt.ylabel(\"petal width\")\n",
        "#creates a predicted subplot with  2 number of rows and 2 number of columns and 2 is the index of the subplot\n",
        "plt.subplot(2,2,2)\n",
        "#plot scatter plot by taking petal length in x axis and petal width in y axis, and\n",
        "#colour each dot using cluster assignment and give the size of each dot as 40\n",
        "plt.scatter(x.petal_length,x.petal_width,c=colormap[km.labels_],s=40)\n",
        "#Giving the title of the graph as predicted clusters and x-axis and y-axis label\n",
        "plt.title(\"predicted clusters\")\n",
        "plt.xlabel(\"petal length\")\n",
        "plt.ylabel(\"petal width\")\n",
        "\n"
      ],
      "metadata": {
        "colab": {
          "base_uri": "https://localhost:8080/",
          "height": 524
        },
        "id": "-1BSyvIx57FY",
        "outputId": "7e17976d-6851-4ba2-e2fd-520d9c58c80f"
      },
      "execution_count": null,
      "outputs": [
        {
          "output_type": "stream",
          "name": "stderr",
          "text": [
            "/usr/local/lib/python3.10/dist-packages/sklearn/cluster/_kmeans.py:870: FutureWarning: The default value of `n_init` will change from 10 to 'auto' in 1.4. Set the value of `n_init` explicitly to suppress the warning\n",
            "  warnings.warn(\n"
          ]
        },
        {
          "output_type": "execute_result",
          "data": {
            "text/plain": [
              "Text(0, 0.5, 'petal\\xa0width')"
            ]
          },
          "metadata": {},
          "execution_count": 4
        },
        {
          "output_type": "display_data",
          "data": {
            "text/plain": [
              "<Figure size 1000x1000 with 2 Axes>"
            ],
            "image/png": "[encoded data removed]"
          },
          "metadata": {}
        }
      ]
    },
    {
      "cell_type": "code",
      "source": [
        "#Day4\n",
        "\n",
        "#Performing mathematical operations on arrays\n",
        "import numpy as npy\n",
        "#Creating and manipulating DataFrames\n",
        "import pandas as pd\n",
        "#to create a variety of plots and charts\n",
        "import matplotlib.pyplot as plt\n",
        "#Upload and read the data in the given dataset\n",
        "d=pd.read_csv(\"/content/Latest Covid-19 India Status.csv\")\n",
        "#Print the head of the data set that is first 5 rows\n",
        "d.head()\n",
        "\n",
        "#print all rows and columns in the dataframe accept the last column\n",
        "x=d.iloc[:,:-1].values\n",
        "#print all rows of the last column in the the dataframe\n",
        "y=d.iloc[:,-1].values\n",
        "#print the x and y list\n",
        "print(x)\n",
        "print(y)"
      ],
      "metadata": {
        "colab": {
          "base_uri": "https://localhost:8080/"
        },
        "id": "bZofKxzt57I-",
        "outputId": "c796f094-2049-4938-e50f-2b6e34129fbd"
      },
      "execution_count": null,
      "outputs": [
        {
          "output_type": "stream",
          "name": "stdout",
          "text": [
            "[['Andaman and Nicobar' 10766 0 10637 129 0.0 98.8 1.2]\n",
            " ['Andhra Pradesh' 2340676 0 2325943 14733 0.0 99.37 0.63]\n",
            " ['Arunachal Pradesh' 67049 0 66753 296 0.0 99.56 0.44]\n",
            " ['Assam' 746159 5 738119 8035 0.0 98.92 1.08]\n",
            " ['Bihar' 855267 1 842952 12314 0.0 98.56 1.44]\n",
            " ['Chandigarh' 100693 0 99508 1185 0.0 98.82 1.18]\n",
            " ['Chhattisgarh' 1187695 0 1173505 14190 0.0 98.81 1.19]\n",
            " ['Dadra and Nagar Haveli and Daman and Diu' 11592 0 11588 4 0.0 99.97\n",
            "  0.03]\n",
            " ['Delhi' 2040910 14 2014230 26666 0.0 98.69 1.31]\n",
            " ['Goa' 263346 3 259329 4014 0.0 98.47 1.52]\n",
            " ['Gujarat' 1291383 5 1280299 11079 0.0 99.14 0.86]\n",
            " ['Haryana' 1078903 27 1068121 10755 0.0 99.0 1.0]\n",
            " ['Himachal Pradesh' 322905 4 318660 4241 0.0 98.69 1.31]\n",
            " ['Jammu and Kashmir' 482023 0 477231 4792 0.0 99.01 0.99]\n",
            " ['Jharkhand' 443826 1 438491 5334 0.0 98.8 1.2]\n",
            " ['Karnataka' 4088769 12 4048399 40358 0.0 99.01 0.99]\n",
            " ['Kerala' 6907241 18 6835181 72042 0.0 98.96 1.04]\n",
            " ['Ladakh' 29602 0 29371 231 0.0 99.22 0.78]\n",
            " ['Lakshadweep' 11415 0 11363 52 0.0 99.54 0.46]\n",
            " ['Madhya Pradesh' 1056351 0 1045565 10786 0.0 98.98 1.02]\n",
            " ['Maharashtra' 8171048 214 8022276 148558 0.0 98.18 1.82]\n",
            " ['Manipur' 140034 0 137885 2149 0.0 98.47 1.53]\n",
            " ['Meghalaya' 96983 3 95352 1628 0.0 98.32 1.68]\n",
            " ['Mizoram' 239560 1 238825 734 0.0 99.69 0.31]\n",
            " ['Nagaland' 36033 0 35251 782 0.0 97.83 2.17]\n",
            " ['Odisha' 1348409 59 1339135 9215 0.0 99.31 0.68]\n",
            " ['Puducherry' 177547 0 175566 1981 0.0 98.88 1.12]\n",
            " ['Punjab' 793644 1233 773073 19338 0.16 97.41 2.44]\n",
            " ['Rajasthan' 1326465 2 1316727 9736 0.0 99.27 0.73]\n",
            " ['Sikkim' 44927 4 44422 501 0.01 98.88 1.12]\n",
            " ['Tamil Nadu' 3610655 5 3572569 38081 0.0 98.95 1.05]\n",
            " ['Telengana' 844432 8 840313 4111 0.0 99.51 0.49]\n",
            " ['Tripura' 108493 1 107550 942 0.0 99.13 0.87]\n",
            " ['Uttar Pradesh' 2145431 57 2121662 23712 0.0 98.89 1.11]\n",
            " ['Uttarakhand' 452571 0 444803 7768 0.0 98.28 1.72]\n",
            " ['West Bengal' 2126282 135 2104592 21555 0.01 98.98 1.01]]\n",
            "[100896618 128500364    658019    290492  40100376  30501026  28900667\n",
            " 231502578    773997   3772103  70400153   7503010   3436948     66001\n",
            " 124904071   1711947  91702478   4184959  11700099  14999397    399001\n",
            "  47099270  79502477   1308967  38157311  19301096   2073074  34698876\n",
            "   1521992  83697770  35998752  69599762   1646050   1158040  85002417\n",
            "  32199722]\n"
          ]
        }
      ]
    },
    {
      "cell_type": "code",
      "source": [
        "#Day5\n",
        "\n",
        "#Performing mathematical operations on arrays\n",
        "import numpy as npy\n",
        "#Creating and manipulating DataFrames\n",
        "import pandas as pd\n",
        "#to create a variety of plots and charts\n",
        "import matplotlib.pyplot as plt\n",
        "#Upload and read the data in the given dataset\n",
        "d=pd.read_csv(\"/content/diabetes.csv\")\n",
        "#Print the tail of the data set that is last 5 rows\n",
        "d.tail()\n",
        "\n",
        "#print first 15 rows and all columns in the dataframe accept the last 2 column\n",
        "x=d.iloc[:15,:-2].values\n",
        "#print first 100 rows of the first column\n",
        "y=d.iloc[:100,0].values\n",
        "#print the x and y list\n",
        "print(x)\n",
        "print(y)"
      ],
      "metadata": {
        "colab": {
          "base_uri": "https://localhost:8080/"
        },
        "id": "4CvLKwnV6-J9",
        "outputId": "da2ad3ef-540a-48f7-ad5a-7197fc55c0e1"
      },
      "execution_count": null,
      "outputs": [
        {
          "output_type": "stream",
          "name": "stdout",
          "text": [
            "[[6.000e+00 1.480e+02 7.200e+01 3.500e+01 0.000e+00 3.360e+01 6.270e-01]\n",
            " [1.000e+00 8.500e+01 6.600e+01 2.900e+01 0.000e+00 2.660e+01 3.510e-01]\n",
            " [8.000e+00 1.830e+02 6.400e+01 0.000e+00 0.000e+00 2.330e+01 6.720e-01]\n",
            " [1.000e+00 8.900e+01 6.600e+01 2.300e+01 9.400e+01 2.810e+01 1.670e-01]\n",
            " [0.000e+00 1.370e+02 4.000e+01 3.500e+01 1.680e+02 4.310e+01 2.288e+00]\n",
            " [5.000e+00 1.160e+02 7.400e+01 0.000e+00 0.000e+00 2.560e+01 2.010e-01]\n",
            " [3.000e+00 7.800e+01 5.000e+01 3.200e+01 8.800e+01 3.100e+01 2.480e-01]\n",
            " [1.000e+01 1.150e+02 0.000e+00 0.000e+00 0.000e+00 3.530e+01 1.340e-01]\n",
            " [2.000e+00 1.970e+02 7.000e+01 4.500e+01 5.430e+02 3.050e+01 1.580e-01]\n",
            " [8.000e+00 1.250e+02 9.600e+01 0.000e+00 0.000e+00 0.000e+00 2.320e-01]\n",
            " [4.000e+00 1.100e+02 9.200e+01 0.000e+00 0.000e+00 3.760e+01 1.910e-01]\n",
            " [1.000e+01 1.680e+02 7.400e+01 0.000e+00 0.000e+00 3.800e+01 5.370e-01]\n",
            " [1.000e+01 1.390e+02 8.000e+01 0.000e+00 0.000e+00 2.710e+01 1.441e+00]\n",
            " [1.000e+00 1.890e+02 6.000e+01 2.300e+01 8.460e+02 3.010e+01 3.980e-01]\n",
            " [5.000e+00 1.660e+02 7.200e+01 1.900e+01 1.750e+02 2.580e+01 5.870e-01]]\n",
            "[ 6  1  8  1  0  5  3 10  2  8  4 10 10  1  5  7  0  7  1  1  3  8  7  9\n",
            " 11 10  7  1 13  5  5  3  3  6 10  4 11  9  2  4  3  7  7  9  7  0  1  2\n",
            "  7  7  1  1  5  8  7  1  7  0  0  0  2  8  5  2  7  5  0  2  1  4  2  5\n",
            " 13  4  1  1  7  5  0  2  3  2  7  0  5  2 13  2 15  1  1  4  7  4  2  6\n",
            "  2  1  6  1]\n"
          ]
        }
      ]
    }
  ]
}