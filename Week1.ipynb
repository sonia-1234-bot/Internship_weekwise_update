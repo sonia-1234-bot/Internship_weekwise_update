{
  "nbformat": 4,
  "nbformat_minor": 0,
  "metadata": {
    "colab": {
      "provenance": [],
      "authorship_tag": "ABX9TyOuy7/E4cZriti/dja3K5z1",
      "include_colab_link": true
    },
    "kernelspec": {
      "name": "python3",
      "display_name": "Python 3"
    },
    "language_info": {
      "name": "python"
    }
  },
  "cells": [
    {
      "cell_type": "markdown",
      "metadata": {
        "id": "view-in-github",
        "colab_type": "text"
      },
      "source": [
        "<a href=\"https://colab.research.google.com/github/sonia-1234-bot/Internship_weekwise_update/blob/main/Week1.ipynb\" target=\"_parent\"><img src=\"https://colab.research.google.com/assets/colab-badge.svg\" alt=\"Open In Colab\"/></a>"
      ]
    },
    {
      "cell_type": "code",
      "execution_count": null,
      "metadata": {
        "colab": {
          "base_uri": "https://localhost:8080/"
        },
        "id": "O8tnu1v5-fBv",
        "outputId": "1e56a9ff-c35c-42f0-b528-57cf1b1e045a"
      },
      "outputs": [
        {
          "output_type": "stream",
          "name": "stdout",
          "text": [
            "Enter your name :Sahyadri\n",
            "S\n",
            "a\n",
            "h\n",
            "y\n",
            "a\n",
            "d\n",
            "r\n",
            "i\n"
          ]
        }
      ],
      "source": [
        "#GROUP 3\n",
        "\n",
        "#Name printing----------------------------------\n",
        "name=input(\"Enter your name :\")\n",
        "for i in name:\n",
        " print(i)"
      ]
    },
    {
      "cell_type": "code",
      "source": [
        "#Even or Odd------------------------------------\n",
        "n=int(input(\"Enter a number: \"))\n",
        "if n%2==0:\n",
        "  print(\"Even\")\n",
        "else:\n",
        "  print(\"odd\")\n"
      ],
      "metadata": {
        "colab": {
          "base_uri": "https://localhost:8080/"
        },
        "id": "bUyjh87N-nf4",
        "outputId": "9e57879c-6cb3-44bb-a09a-51a7692f172b"
      },
      "execution_count": null,
      "outputs": [
        {
          "output_type": "stream",
          "name": "stdout",
          "text": [
            "Enter a number: 45\n",
            "odd\n"
          ]
        }
      ]
    },
    {
      "cell_type": "code",
      "source": [
        "#Palindrome------------------------------------\n",
        "a=input(\"Enter a string: \")\n",
        "rev=''\n",
        "for i in a:\n",
        "  rev=i+rev\n",
        "print(rev)\n",
        "if a==rev:\n",
        "  print(\"Palindrome\")\n",
        "else:\n",
        "  print(\"Not a palindrome\")\n"
      ],
      "metadata": {
        "colab": {
          "base_uri": "https://localhost:8080/"
        },
        "id": "gkU8FGsQ-nlB",
        "outputId": "d7cbe332-7a63-432f-a1d9-5bbdb4845604"
      },
      "execution_count": null,
      "outputs": [
        {
          "output_type": "stream",
          "name": "stdout",
          "text": [
            "Enter a string: malayalam\n",
            "malayalam\n",
            "Palindrome\n"
          ]
        }
      ]
    },
    {
      "cell_type": "code",
      "source": [
        "#String matching-------------------------------\n",
        "string=input(\"Enter the string:\")\n",
        "pattern=input(\"Enter the pattern:\")\n",
        "length=len(pattern)\n",
        "if pattern in string:\n",
        "  print(\"Recognised\")\n",
        "else:\n",
        "  print(\"Not recognised\")\n",
        "pos=string.index(pattern)\n",
        "print(string[:pos])\n",
        "print(string[(pos+length):])\n"
      ],
      "metadata": {
        "colab": {
          "base_uri": "https://localhost:8080/"
        },
        "id": "q6S-lICb-nnw",
        "outputId": "108ad23c-0c6f-4f3a-ecf7-210aa2a05895"
      },
      "execution_count": null,
      "outputs": [
        {
          "output_type": "stream",
          "name": "stdout",
          "text": [
            "Enter the string:Pineapple\n",
            "Enter the pattern:app\n",
            "Recognised\n",
            "Pine\n",
            "le\n"
          ]
        }
      ]
    },
    {
      "cell_type": "code",
      "source": [
        "#reverse a word-------------------------------\n",
        "def reverseWordSentence(Sentence):\n",
        "   return ' '.join(word[::-1] for word in Sentence.split(\" \"))\n",
        "Sentence = input(\"Enter the string: \")\n",
        "print(reverseWordSentence(Sentence))\n"
      ],
      "metadata": {
        "colab": {
          "base_uri": "https://localhost:8080/"
        },
        "id": "IOcFZws6-nqh",
        "outputId": "c221f861-5975-438a-9b6f-7f3fdce5e155"
      },
      "execution_count": null,
      "outputs": [
        {
          "output_type": "stream",
          "name": "stdout",
          "text": [
            "Enter the string: Hello World\n",
            "olleH dlroW\n"
          ]
        }
      ]
    },
    {
      "cell_type": "code",
      "source": [
        "#reverse a sentence---------------------------\n",
        "def reverseWords(s):\n",
        "  words = s.split(' ')\n",
        "  reverse_str = ' '.join(reversed(words))\n",
        "  return reverse_str\n",
        "s1 = input(\"Enter the string: \")\n",
        "print (reverseWords(s1))\n"
      ],
      "metadata": {
        "colab": {
          "base_uri": "https://localhost:8080/"
        },
        "id": "Md_cXFfk-ntj",
        "outputId": "719df81b-670e-4724-a72f-857bd805e8b4"
      },
      "execution_count": null,
      "outputs": [
        {
          "output_type": "stream",
          "name": "stdout",
          "text": [
            "Enter the string: Hello World\n",
            "World Hello\n"
          ]
        }
      ]
    },
    {
      "cell_type": "code",
      "source": [
        "#GROUP 3\n",
        "#Printing even and odd number for a given limit\n",
        "n=int(input(\"Enter the limit: \"))\n",
        "print(f'Even numbers from {n} : ')\n",
        "for i in range(n,0,-2):\n",
        " if n%2==0:\n",
        "  print(i)\n",
        " else:\n",
        "  print(i-1)\n",
        "print(f'Odd numbers from {n} : ')\n",
        "for i in range(n,0,-2):\n",
        "  if n%2!=0:\n",
        "    print(i)\n",
        "  else:\n",
        "    print(i-1)\n"
      ],
      "metadata": {
        "colab": {
          "base_uri": "https://localhost:8080/"
        },
        "id": "HZmTzhQX-nwf",
        "outputId": "b629db26-40c5-4974-b2c3-7e183bf5eba8"
      },
      "execution_count": null,
      "outputs": [
        {
          "output_type": "stream",
          "name": "stdout",
          "text": [
            "Enter the limit: 10\n",
            "Even numbers from 10 : \n",
            "10\n",
            "8\n",
            "6\n",
            "4\n",
            "2\n",
            "Odd numbers from 10 : \n",
            "9\n",
            "7\n",
            "5\n",
            "3\n",
            "1\n"
          ]
        }
      ]
    },
    {
      "cell_type": "code",
      "source": [
        "#Sum of digits\n",
        "sum=0\n",
        "num=input(\"Enter the number: \")\n",
        "for i in num:\n",
        "  sum=sum+int(i)\n",
        "print(sum)\n"
      ],
      "metadata": {
        "colab": {
          "base_uri": "https://localhost:8080/"
        },
        "id": "OZ49vI8f-nz1",
        "outputId": "ff5f2d9e-8b32-4975-9165-232c3a431dd1"
      },
      "execution_count": null,
      "outputs": [
        {
          "output_type": "stream",
          "name": "stdout",
          "text": [
            "Enter the number: 453\n",
            "12\n"
          ]
        }
      ]
    },
    {
      "cell_type": "code",
      "source": [
        "#Sum of consecutive numbers from minimum to maximum\n",
        "sum=0\n",
        "min=int(input(\"Minimum: \"))\n",
        "max=int(input(\"Maximum: \"))\n",
        "for i in range(min,max+1):\n",
        "  sum=sum+i\n",
        "print(sum)\n"
      ],
      "metadata": {
        "colab": {
          "base_uri": "https://localhost:8080/"
        },
        "id": "5qzeKlTr-n2d",
        "outputId": "a4aa60ee-890a-4c15-f367-e0b14fd4df37"
      },
      "execution_count": null,
      "outputs": [
        {
          "output_type": "stream",
          "name": "stdout",
          "text": [
            "Minimum: 5\n",
            "Maximum: 10\n",
            "45\n"
          ]
        }
      ]
    },
    {
      "cell_type": "code",
      "source": [
        "#Check whether the number is prime or not\n",
        "num=int(input(\"Enter a number: \"))\n",
        "count=0\n",
        "is_prime=True\n",
        "for i in range(2,num):\n",
        " if num%i==0:\n",
        "   is_prime=False\n",
        "if is_prime:\n",
        "   print(\"Prime number \")\n",
        "else:\n",
        "   print(\"Not a Prime number \")\n"
      ],
      "metadata": {
        "colab": {
          "base_uri": "https://localhost:8080/"
        },
        "id": "L_Xm0gvL-n5P",
        "outputId": "d6a60da9-831d-4d45-f5f3-95c924a17c1b"
      },
      "execution_count": null,
      "outputs": [
        {
          "output_type": "stream",
          "name": "stdout",
          "text": [
            "Enter a number: 73\n",
            "Prime number \n"
          ]
        }
      ]
    },
    {
      "cell_type": "code",
      "source": [
        "#Printing pyramid of numbers\n",
        "num=int(input(\"Enter the range: \"))\n",
        "for i in range(num):\n",
        "  for j in range(num-i):\n",
        "    print(j,end=\" \")\n",
        "  print()"
      ],
      "metadata": {
        "colab": {
          "base_uri": "https://localhost:8080/"
        },
        "id": "1yB_se-2-n8f",
        "outputId": "a5e8330e-0588-4057-fd0e-44d39b36b1d2"
      },
      "execution_count": null,
      "outputs": [
        {
          "output_type": "stream",
          "name": "stdout",
          "text": [
            "Enter the range: 5\n",
            "0 1 2 3 4 \n",
            "0 1 2 3 \n",
            "0 1 2 \n",
            "0 1 \n",
            "0 \n"
          ]
        }
      ]
    },
    {
      "cell_type": "code",
      "source": [
        "#Printing pyramid of numbers\n",
        "for i in range(1,5+1):\n",
        " for j in range(1,i+1):\n",
        "   print(i*j,end=\" \")\n",
        " print()\n"
      ],
      "metadata": {
        "colab": {
          "base_uri": "https://localhost:8080/"
        },
        "id": "r_-7VCPF-oAF",
        "outputId": "a2868f0a-0ae8-4528-b829-3bfe2301eb09"
      },
      "execution_count": null,
      "outputs": [
        {
          "output_type": "stream",
          "name": "stdout",
          "text": [
            "1 \n",
            "2 4 \n",
            "3 6 9 \n",
            "4 8 12 16 \n",
            "5 10 15 20 25 \n"
          ]
        }
      ]
    },
    {
      "cell_type": "code",
      "source": [
        "#Checking how many name starts with A\n",
        "names=['Anna','Bob','Arvind','Anu']\n",
        "count=0\n",
        "for i in names:\n",
        "  if i[0]==\"A\" or i[0]==\"a\":\n",
        "    count+=1\n",
        "print(count)"
      ],
      "metadata": {
        "colab": {
          "base_uri": "https://localhost:8080/"
        },
        "id": "87j-SsGn_4ZB",
        "outputId": "06f667ef-c193-4c54-8fbf-7032df600355"
      },
      "execution_count": null,
      "outputs": [
        {
          "output_type": "stream",
          "name": "stdout",
          "text": [
            "3\n"
          ]
        }
      ]
    },
    {
      "cell_type": "code",
      "source": [
        "#Print frequency of characters in a string using dictionary\n",
        "s=input(\"Enter the string: \")\n",
        "di={}\n",
        "for i in s:\n",
        "   if i in di:\n",
        "     di[i]=di[i]+1\n",
        "   else:\n",
        "     di[i]=1\n",
        "print(di)"
      ],
      "metadata": {
        "colab": {
          "base_uri": "https://localhost:8080/"
        },
        "id": "k5k80Zo70RtW",
        "outputId": "81b69cb6-8440-463f-a72b-c455b6b79e66"
      },
      "execution_count": null,
      "outputs": [
        {
          "output_type": "stream",
          "name": "stdout",
          "text": [
            "Enter the string: Hello World\n",
            "{'H': 1, 'e': 1, 'l': 3, 'o': 2, ' ': 1, 'W': 1, 'r': 1, 'd': 1}\n"
          ]
        }
      ]
    },
    {
      "cell_type": "code",
      "source": [
        "#Print frequency of characters in a string\n",
        "string=input(\"Enter the string: \")\n",
        "l=[]\n",
        "for i in string:\n",
        "  count=0\n",
        "  if i in l:\n",
        "    continue\n",
        "  else:\n",
        "    for j in string:\n",
        "       if j==i:\n",
        "          count+=1\n",
        "  print(f'{i}: {count}')\n",
        "  l.append(i)"
      ],
      "metadata": {
        "colab": {
          "base_uri": "https://localhost:8080/"
        },
        "id": "dOrdhVAe_4lO",
        "outputId": "f3f4beda-d92c-47f1-caee-318cbd9fb930"
      },
      "execution_count": null,
      "outputs": [
        {
          "output_type": "stream",
          "name": "stdout",
          "text": [
            "Enter the string: Hello world\n",
            "H: 1\n",
            "e: 1\n",
            "l: 3\n",
            "o: 2\n",
            " : 1\n",
            "w: 1\n",
            "r: 1\n",
            "d: 1\n"
          ]
        }
      ]
    },
    {
      "cell_type": "code",
      "source": [
        "#Checking whether the strings are anagram\n",
        "s=input(\"Enter first string: \")\n",
        "s1=input(\"Enter the second string: \")\n",
        "di={}\n",
        "di2={}\n",
        "for i in s:\n",
        "  if i in di:\n",
        "    di[i]=di[i]+1\n",
        "  else:\n",
        "    di[i]=1\n",
        "for i in s1:\n",
        "   if i in di2:\n",
        "     di2[i]=di2[i]+1\n",
        "   else:\n",
        "     di2[i]=1\n",
        "if di==di2:\n",
        "   print(\"Anagram\")\n",
        "else:\n",
        "   print(\"Not an anagram\")"
      ],
      "metadata": {
        "colab": {
          "base_uri": "https://localhost:8080/"
        },
        "id": "LyNOYHuAAKV1",
        "outputId": "b96fce88-e2e6-49c9-cc1e-510edcb3e930"
      },
      "execution_count": null,
      "outputs": [
        {
          "output_type": "stream",
          "name": "stdout",
          "text": [
            "Enter first string: elegant man\n",
            "Enter the second string: a gentleman\n",
            "Anagram\n"
          ]
        }
      ]
    },
    {
      "cell_type": "code",
      "source": [
        "#Square and Cube of a number using functions and tupple\n",
        "def square_cube(n):\n",
        "  square=n*n\n",
        "  cube=n*n*n\n",
        "  return square,cube\n",
        "m=int(input(\"Enter the number: \"))\n",
        "print(square_cube(m))\n"
      ],
      "metadata": {
        "colab": {
          "base_uri": "https://localhost:8080/"
        },
        "id": "AFGkO-t9AKY0",
        "outputId": "f8b82c21-c0d5-4b1f-ea03-97960f4efc04"
      },
      "execution_count": null,
      "outputs": [
        {
          "output_type": "stream",
          "name": "stdout",
          "text": [
            "Enter the number: 6\n",
            "(36, 216)\n"
          ]
        }
      ]
    },
    {
      "cell_type": "code",
      "source": [
        "#Square and Cube of a number using functions\n",
        "def sq_cube(num1,num2):\n",
        "   return num1*num1,num2*num2*num2\n",
        "n1=int(input(\"Enter the number to find square:\"))\n",
        "n2=int(input(\"Enter the number to find cube: \"))\n",
        "square,cube=sq_cube(n1,n2)\n",
        "print(square)\n",
        "print(cube)"
      ],
      "metadata": {
        "colab": {
          "base_uri": "https://localhost:8080/"
        },
        "id": "Kio0kyPzAUbE",
        "outputId": "b1eedfd1-941c-4f46-8c4e-be358e595576"
      },
      "execution_count": null,
      "outputs": [
        {
          "output_type": "stream",
          "name": "stdout",
          "text": [
            "Enter the number to find square:4\n",
            "Enter the number to find cube: 7\n",
            "16\n",
            "343\n"
          ]
        }
      ]
    }
  ]
}