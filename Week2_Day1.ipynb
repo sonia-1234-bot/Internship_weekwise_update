{
  "nbformat": 4,
  "nbformat_minor": 0,
  "metadata": {
    "colab": {
      "provenance": [],
      "authorship_tag": "ABX9TyMzXTp503dgiSM5O1nr6n8L",
      "include_colab_link": true
    },
    "kernelspec": {
      "name": "python3",
      "display_name": "Python 3"
    },
    "language_info": {
      "name": "python"
    }
  },
  "cells": [
    {
      "cell_type": "markdown",
      "metadata": {
        "id": "view-in-github",
        "colab_type": "text"
      },
      "source": [
        "<a href=\"https://colab.research.google.com/github/sonia-1234-bot/Internship_weekwise_update/blob/main/Week2_Day1.ipynb\" target=\"_parent\"><img src=\"https://colab.research.google.com/assets/colab-badge.svg\" alt=\"Open In Colab\"/></a>"
      ]
    },
    {
      "cell_type": "code",
      "execution_count": null,
      "metadata": {
        "colab": {
          "base_uri": "https://localhost:8080/"
        },
        "id": "eY2NBDP95abm",
        "outputId": "f89d8aa6-15f7-4d7a-f8a5-366d207e1293"
      },
      "outputs": [
        {
          "output_type": "stream",
          "name": "stdout",
          "text": [
            "[2 3]\n",
            "[1]\n",
            "[4 6]\n",
            "[2]\n",
            "(2,)\n",
            "(1,)\n",
            "(2,)\n",
            "(1,)\n",
            "[[2]\n",
            " [3]]\n",
            "[[1]]\n",
            "[[4]\n",
            " [6]]\n",
            "[[2]]\n",
            "(2, 1)\n",
            "(1, 1)\n",
            "(2, 1)\n",
            "(1, 1)\n"
          ]
        }
      ],
      "source": [
        "import numpy as npy\n",
        "import matplotlib.pyplot as plt\n",
        "import pandas as pd\n",
        "from sklearn.model_selection import train_test_split\n",
        "#Taking one dimensional array as input for x and y\n",
        "x=npy.array([1,2,3])\n",
        "y=npy.array([2,4,6])\n",
        "#Using train_test_split() to split the array into train_x,test_x and train_y,test_y\n",
        "train_x,test_x,train_y,test_y=train_test_split(x,y)\n",
        "#Printing the Splitted arrays\n",
        "print(train_x)\n",
        "print(test_x)\n",
        "print(train_y)\n",
        "print(test_y)\n",
        "#Printing the shape of an array\n",
        "print(train_x.shape)\n",
        "print(test_x.shape)\n",
        "print(train_y.shape)\n",
        "print(test_y.shape)\n",
        "#Since the input is one_dimensional array we will not get the complete shape\n",
        "#So we use reshape() to convert the input into two_dimensional\n",
        "train_x=train_x.reshape(-1,1)\n",
        "test_x=test_x.reshape(-1,1)\n",
        "train_y=train_y.reshape(-1,1)\n",
        "test_y=test_y.reshape(-1,1)\n",
        "#Printing the reshaped two dimensional splitted array of x and y\n",
        "print(train_x)\n",
        "print(test_x)\n",
        "print(train_y)\n",
        "print(test_y)\n",
        "#printing the shape of the reshaped array where we will get the complete shape of the array with rows and columns\n",
        "print(train_x.shape)\n",
        "print(test_x.shape)\n",
        "print(train_y.shape)\n",
        "print(test_y.shape)\n",
        "from sklearn.linear_model import LinearRegression\n",
        "#LinearRegression() creates a model of x and y divided into train_x, test_x and train_y,test_y\n",
        "lr=LinearRegression()\n",
        "#Now the array is fit in such a way that train_x is the input and train_y is the output\n",
        "lr.fit(train_x,train_y)\n",
        "#Here the y_predict must be equal to test_y to verify the test cases\n",
        "y_predict=lr.predict(test_x)\n"
      ]
    }
  ]
}